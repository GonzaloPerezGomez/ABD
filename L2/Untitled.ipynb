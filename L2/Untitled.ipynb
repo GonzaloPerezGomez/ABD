{
 "cells": [
  {
   "cell_type": "code",
   "execution_count": 43,
   "id": "e84e7e36-bd28-4002-8160-542c28384778",
   "metadata": {},
   "outputs": [
    {
     "data": {
      "text/html": [
       "<div class=\"krn-spql\"><div class=\"magic\">Endpoint set to: http://localhost:7200/repositories/abd-local</div><div class=\"magic\">Request format: ANY</div><div class=\"magic\">Display: table</div></div>"
      ],
      "text/plain": [
       "Endpoint set to: http://localhost:7200/repositories/abd-local\n",
       "Request format: ANY\n",
       "Display: table\n"
      ]
     },
     "metadata": {},
     "output_type": "display_data"
    }
   ],
   "source": [
    "%endpoint http://localhost:7200/repositories/abd-local\n",
    "%format any\n",
    "%display table"
   ]
  },
  {
   "cell_type": "code",
   "execution_count": 44,
   "id": "54989e86-5d26-47a5-8111-760df0ee6ad1",
   "metadata": {},
   "outputs": [
    {
     "data": {
      "text/html": [
       "<div class=\"krn-spql\"><table><tr class=hdr><th>p</th>\n",
       "<th>o</th></tr></table><div class=\"tinfo\">Total: 0, Shown: 0</div></div>"
      ]
     },
     "metadata": {},
     "output_type": "display_data"
    }
   ],
   "source": [
    "select * \n",
    "where{\n",
    "    Graph <urn:local>{\n",
    "        <https://ehu.eus/staff/pdi/mikel> ?p ?o \n",
    "    }\n",
    "}"
   ]
  },
  {
   "cell_type": "code",
   "execution_count": 31,
   "id": "60cfcef3-639d-4284-8452-07341ebfc553",
   "metadata": {},
   "outputs": [
    {
     "data": {
      "text/html": [
       "<div class=\"krn-spql\"><div class=\"magic\">Endpoint set to: http://localhost:7200/repositories/abd-local</div><div class=\"magic\">Default graph: urn:local</div><div class=\"magic\">Output file: /home/lucia/grafos</div></div>"
      ],
      "text/plain": [
       "Endpoint set to: http://localhost:7200/repositories/abd-local\n",
       "Default graph: urn:local\n",
       "Output file: /home/lucia/grafos\n"
      ]
     },
     "metadata": {},
     "output_type": "display_data"
    }
   ],
   "source": [
    "%endpoint http://localhost:7200/repositories/abd-local\n",
    "%graph urn:local\n",
    "%outfile grafos"
   ]
  },
  {
   "cell_type": "code",
   "execution_count": 37,
   "id": "47296300-4b4b-4557-a9a1-c4443dce2e88",
   "metadata": {},
   "outputs": [
    {
     "data": {
      "text/html": [
       "<div class=\"krn-spql\"><table><tr class=hdr><th>p</th>\n",
       "<th>o</th></tr><tr class=odd><td class=val><a href=\"urn:eustat:property:vive_en\" target=\"_other\">urn:eustat:property:vive_en</a></td>\n",
       "<td class=val><a href=\"https://data.euskadi.eus/resource/bilbo\" target=\"_other\">https://data.euskadi.eus/resource/bilbo</a></td></tr></table><div class=\"tinfo\">Total: 1, Shown: 1</div></div>"
      ]
     },
     "metadata": {},
     "output_type": "display_data"
    }
   ],
   "source": [
    "select * \n",
    "where{\n",
    "        <https://ehu.eus/staff/pdi/mikel> ?p ?o\n",
    "}"
   ]
  },
  {
   "cell_type": "code",
   "execution_count": 33,
   "id": "6f7245c4-121d-409e-8194-11f3f2783068",
   "metadata": {},
   "outputs": [
    {
     "data": {
      "text/html": [
       "<div class=\"krn-spql\"><div class=\"magic-help\">Available magics:<br/>%auth  %display  %endpoint  %format  %graph  %header  %http_header  %lang  %load  %log  %lsmagics  %method  %outfile  %prefix  %qparam  %show<br/><br/>%auth (basic|digest|none) &lt;username&gt; &lt;passwd&gt; : send HTTP authentication (use env:&lt;var&gt; to get values from environment variables)<br/>%display raw | table [withtypes] | diagram [svg|png] [withliterals] : set display format<br/>%endpoint &lt;url&gt; : set SPARQL endpoint. **REQUIRED**<br/>%format JSON | N3 | XML | default | any | none : set requested result format<br/>%graph &lt;uri&gt; : set default graph for the queries<br/>%header &lt;string&gt; | OFF : add a persistent SPARQL header line before all queries, or delete all defined headers<br/>%http_header &lt;name&gt; [&lt;value&gt;] : add (or delete) an arbitrary HTTP header to all queries<br/>%lang &lt;lang&gt; [...] | default | all : language(s) preferred for labels<br/>%load &lt;filename&gt; : load a file with magic lines and process them<br/>%log critical | error | warning | info | debug : set logging level<br/>%lsmagics  : list all magics<br/>%method get | post : set HTTP method<br/>%outfile &lt;filename&gt; | off : save raw output to a file (use &quot;%d&quot; in name to add cell number, &quot;off&quot; to cancel saving)<br/>%prefix &lt;name&gt; [&lt;uri&gt;] : set (or delete) a persistent URI prefix for all queries<br/>%qparam &lt;name&gt; [&lt;value&gt;] : add (or delete) a persistent custom parameter to all queries<br/>%show &lt;n&gt; | all : maximum number of shown results</div></div>"
      ],
      "text/plain": [
       "Available magics:\n",
       "%auth  %display  %endpoint  %format  %graph  %header  %http_header  %lang  %load  %log  %lsmagics  %method  %outfile  %prefix  %qparam  %show\n",
       "\n",
       "%auth (basic|digest|none) <username> <passwd> : send HTTP authentication (use env:<var> to get values from environment variables)\n",
       "%display raw | table [withtypes] | diagram [svg|png] [withliterals] : set display format\n",
       "%endpoint <url> : set SPARQL endpoint. **REQUIRED**\n",
       "%format JSON | N3 | XML | default | any | none : set requested result format\n",
       "%graph <uri> : set default graph for the queries\n",
       "%header <string> | OFF : add a persistent SPARQL header line before all queries, or delete all defined headers\n",
       "%http_header <name> [<value>] : add (or delete) an arbitrary HTTP header to all queries\n",
       "%lang <lang> [...] | default | all : language(s) preferred for labels\n",
       "%load <filename> : load a file with magic lines and process them\n",
       "%log critical | error | warning | info | debug : set logging level\n",
       "%lsmagics  : list all magics\n",
       "%method get | post : set HTTP method\n",
       "%outfile <filename> | off : save raw output to a file (use \"%d\" in name to add cell number, \"off\" to cancel saving)\n",
       "%prefix <name> [<uri>] : set (or delete) a persistent URI prefix for all queries\n",
       "%qparam <name> [<value>] : add (or delete) a persistent custom parameter to all queries\n",
       "%show <n> | all : maximum number of shown results\n"
      ]
     },
     "metadata": {},
     "output_type": "display_data"
    }
   ],
   "source": [
    "%lsmagics"
   ]
  },
  {
   "cell_type": "code",
   "execution_count": 48,
   "id": "4ffa1c85-dd2a-4115-be01-3211e46356a5",
   "metadata": {},
   "outputs": [
    {
     "data": {
      "text/html": [
       "<div class=\"krn-spql\"><table><tr class=hdr><th>s</th>\n",
       "<th>p</th>\n",
       "<th>o</th></tr><tr class=odd><td class=val><a href=\"https://ehu.eus/staff/pdi/mikel\" target=\"_other\">https://ehu.eus/staff/pdi/mikel</a></td>\n",
       "<td class=val><a href=\"urn:eustat:property:amigo_de\" target=\"_other\">urn:eustat:property:amigo_de</a></td>\n",
       "<td class=val><a href=\"https://ehu.eus/staff/pdi/jon\" target=\"_other\">https://ehu.eus/staff/pdi/jon</a></td></tr><tr class=even><td class=val><a href=\"https://ehu.eus/staff/pdi/jon\" target=\"_other\">https://ehu.eus/staff/pdi/jon</a></td>\n",
       "<td class=val><a href=\"https://ehu.eus/staff/pdi/vive_en\" target=\"_other\">https://ehu.eus/staff/pdi/vive_en</a></td>\n",
       "<td class=val><a href=\"https://data.euskadi.eus/resource/bilbo\" target=\"_other\">https://data.euskadi.eus/resource/bilbo</a></td></tr></table><div class=\"tinfo\">Total: 2, Shown: 2</div></div>"
      ]
     },
     "metadata": {},
     "output_type": "display_data"
    }
   ],
   "source": [
    "select * \n",
    "where{\n",
    "    SERVICE <http://34.78.15.77:7200/repositories/abd-remoto>{\n",
    "    Graph <urn:remoto>{\n",
    "        ?s ?p ?o \n",
    "    }}\n",
    "}"
   ]
  }
 ],
 "metadata": {
  "kernelspec": {
   "display_name": "SPARQL",
   "language": "sparql",
   "name": "sparql"
  },
  "language_info": {
   "codemirror_mode": {
    "name": "sparql"
   },
   "mimetype": "application/sparql-query",
   "name": "sparql",
   "pygments_lexer": "sparql-nb"
  }
 },
 "nbformat": 4,
 "nbformat_minor": 5
}
